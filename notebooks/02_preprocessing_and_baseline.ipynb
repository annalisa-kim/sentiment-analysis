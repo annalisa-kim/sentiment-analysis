{
 "cells": [
  {
   "cell_type": "code",
   "execution_count": null,
   "id": "80f10a58",
   "metadata": {},
   "outputs": [],
   "source": [
    "from pathlib import Path\n",
    "\n",
    "def find_repo_root(start: Path = Path.cwd()) -> Path:\n",
    "    for p in [start, *start.parents]:\n",
    "        if (p / \".git\").exists():\n",
    "            return p\n",
    "    return start\n",
    "\n",
    "REPO   = find_repo_root()\n",
    "DATA   = REPO / \"data\"\n",
    "RAW    = DATA / \"raw\"\n",
    "INTERM = DATA / \"interim\"\n",
    "CLEAN  = DATA / \"clean\"\n",
    "MODELS = REPO / \"models\"\n",
    "\n",
    "for d in (RAW, INTERM, CLEAN, MODELS): d.mkdir(parents=True, exist_ok=True)\n",
    "\n",
    "print(\"Repo root:\", REPO)\n",
    "print(\"Interim dir:\", INTERM)\n"
   ]
  },
  {
   "cell_type": "code",
   "execution_count": null,
   "id": "47c814dd",
   "metadata": {},
   "outputs": [],
   "source": [
    "# 1) Imports\n",
    "import os, pandas as pd\n",
    "from transformers import pipeline\n",
    "\n",
    "# 2) Load clean data\n",
    "clean_path = \"../data/clean/trustpilot_allianz_clean.csv\"\n",
    "df = pd.read_csv(clean_path).dropna(subset=[\"text\"])\n",
    "\n",
    "# 3) Auto-label 1–5 stars (CPU)\n",
    "clf = pipeline(\"sentiment-analysis\",\n",
    "               model=\"nlptown/bert-base-multilingual-uncased-sentiment\",\n",
    "               device=-1)\n",
    "\n",
    "def predict_stars(t: str):\n",
    "    if not isinstance(t, str) or not t.strip(): return None\n",
    "    out = clf(t[:512]); out = out[0] if isinstance(out, list) else out\n",
    "    lbl = out.get(\"label\",\"\")\n",
    "    for ch in lbl:\n",
    "        if ch.isdigit(): return int(ch)\n",
    "    return None\n",
    "\n",
    "df[\"stars\"] = df[\"text\"].astype(str).apply(predict_stars)\n",
    "\n",
    "# 4) Map stars -> sentiment\n",
    "def stars_to_sentiment(s):\n",
    "    if s is None: return \"neutral\"\n",
    "    if s <= 2: return \"negative\"\n",
    "    if s == 3: return \"neutral\"\n",
    "    return \"positive\"\n",
    "\n",
    "df[\"sentiment\"] = df[\"stars\"].apply(stars_to_sentiment)\n",
    "\n",
    "# 5) Save scored\n",
    "os.makedirs(\"../data/interim\", exist_ok=True)\n",
    "df.to_csv(\"../data/interim/trustpilot_scored.csv\", index=False)\n",
    "df[\"sentiment\"].value_counts(dropna=False)\n"
   ]
  },
  {
   "cell_type": "code",
   "execution_count": null,
   "id": "6fc5f816",
   "metadata": {},
   "outputs": [],
   "source": [
    "%pip install -q scikit-learn joblib\n",
    "\n",
    "from sklearn.model_selection import train_test_split\n",
    "from sklearn.feature_extraction.text import TfidfVectorizer\n",
    "from sklearn.linear_model import LogisticRegression\n",
    "from sklearn.pipeline import Pipeline\n",
    "from sklearn.metrics import classification_report\n",
    "import joblib\n",
    "\n",
    "data = df.dropna(subset=[\"text\",\"sentiment\"])\n",
    "strat = data[\"sentiment\"] if data[\"sentiment\"].value_counts().min() >= 2 else None\n",
    "\n",
    "X_train, X_test, y_train, y_test = train_test_split(\n",
    "    data[\"text\"], data[\"sentiment\"], test_size=0.25, random_state=42, stratify=strat\n",
    ")\n",
    "\n",
    "pipe = Pipeline([\n",
    "    (\"tfidf\", TfidfVectorizer(ngram_range=(1,2), min_df=1, max_features=20000)),\n",
    "    (\"clf\", LogisticRegression(max_iter=1000, class_weight=\"balanced\"))\n",
    "])\n",
    "\n",
    "pipe.fit(X_train, y_train)\n",
    "pred = pipe.predict(X_test)\n",
    "print(classification_report(y_test, pred))\n",
    "\n",
    "os.makedirs(\"../models\", exist_ok=True)\n",
    "joblib.dump(pipe, \"../models/tfidf_logreg.joblib\")\n"
   ]
  },
  {
   "cell_type": "code",
   "execution_count": 4,
   "id": "567acff2",
   "metadata": {},
   "outputs": [],
   "source": [
    "df.to_csv(INTERM / \"trustpilot_scored.csv\", index=False)\n",
    "\n",
    "df_out = df.assign(date=pd.to_datetime(df[\"date\"], utc=True, errors=\"coerce\"))\n",
    "df_out[\"month\"] = df_out[\"date\"].dt.tz_convert(\"Europe/Zurich\").dt.strftime(\"%Y-%m\")\n",
    "agg = df_out.groupby([\"month\",\"sentiment\"]).size().reset_index(name=\"count\")\n",
    "agg.to_csv(INTERM / \"sentiment_by_month.csv\", index=False)"
   ]
  },
  {
   "cell_type": "code",
   "execution_count": 5,
   "id": "1287e582",
   "metadata": {},
   "outputs": [],
   "source": [
    "df_out = df.assign(date=pd.to_datetime(df[\"date\"], utc=True, errors=\"coerce\"))\n",
    "df_out[\"month\"] = df_out[\"date\"].dt.tz_convert(\"Europe/Zurich\").dt.strftime(\"%Y-%m\")\n",
    "agg = df_out.groupby([\"month\",\"sentiment\"]).size().reset_index(name=\"count\")\n",
    "agg.to_csv(\"../data/interim/sentiment_by_month.csv\", index=False)"
   ]
  },
  {
   "cell_type": "code",
   "execution_count": 7,
   "id": "23521068",
   "metadata": {},
   "outputs": [
    {
     "name": "stdout",
     "output_type": "stream",
     "text": [
      "stars\n",
      "1    33\n",
      "2     1\n",
      "5     6\n",
      "Name: count, dtype: int64\n",
      "sentiment\n",
      "negative    34\n",
      "positive     6\n",
      "Name: count, dtype: int64\n",
      "              precision    recall  f1-score   support\n",
      "\n",
      "    negative       1.00      1.00      1.00         9\n",
      "    positive       1.00      1.00      1.00         1\n",
      "\n",
      "    accuracy                           1.00        10\n",
      "   macro avg       1.00      1.00      1.00        10\n",
      "weighted avg       1.00      1.00      1.00        10\n",
      "\n"
     ]
    }
   ],
   "source": [
    "print(df[\"stars\"].value_counts(dropna=False).sort_index())\n",
    "print(df[\"sentiment\"].value_counts(dropna=False))\n",
    "print(classification_report(y_test, pred))"
   ]
  }
 ],
 "metadata": {
  "kernelspec": {
   "display_name": ".venv",
   "language": "python",
   "name": "python3"
  },
  "language_info": {
   "codemirror_mode": {
    "name": "ipython",
    "version": 3
   },
   "file_extension": ".py",
   "mimetype": "text/x-python",
   "name": "python",
   "nbconvert_exporter": "python",
   "pygments_lexer": "ipython3",
   "version": "3.9.13"
  }
 },
 "nbformat": 4,
 "nbformat_minor": 5
}
